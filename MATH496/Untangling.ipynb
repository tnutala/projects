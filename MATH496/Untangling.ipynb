{
 "cells": [
  {
   "cell_type": "code",
   "execution_count": 3,
   "metadata": {
    "collapsed": false,
    "deletable": true,
    "editable": true
   },
   "outputs": [],
   "source": [
    "import numpy as np\n",
    "import random\n",
    "n=7\n",
    "\n",
    "g=graphs.CompleteGraph(n)\n",
    "g.show()\n",
    "\n",
    "adjmat=g.adjacency_matrix()\n",
    "\n",
    "schedules=[]\n",
    "hsets=[]\n",
    "\n",
    "for i in range(np.random.randint(2,5)):    #number of schedules (inclusive,exclusive)\n",
    "    hset= random.sample(range(0,7), np.random.randint(2,n+1)) #generates schedules; (smallest allowed clique, largest allowed)\n",
    "    hsets.append(hset)\n",
    "    schedules.append(adjmat[hset,hset])\n",
    "\n",
    "#take slices of g to make the h graphs AKA schedules\n",
    "print(\"vertex sets of the h graphs\",hsets)\n",
    "#print(schedules)"
   ]
  },
  {
   "cell_type": "code",
   "execution_count": 5,
   "metadata": {
    "collapsed": false,
    "deletable": true,
    "editable": true
   },
   "outputs": [],
   "source": [
    "\n",
    "import itertools as it\n",
    "\n",
    "\n",
    "hsets=[[1, 6, 4, 0, 3], [2, 0, 1, 4, 5, 3, 6], [1, 6, 0, 4, 2], [1, 2, 5, 4]]\n",
    "edgesets=[]\n",
    "\n",
    "\n",
    "for h in hsets:\n",
    "    edgesets.append(it.combinations(h,2))\n",
    "\n",
    "for i,j in enumerate(edgesets):\n",
    "    edgesets[i]=list(j)\n",
    "    \n",
    "print(edgesets)\n",
    "subgraphs=[]\n",
    "g = Graph(multiedges=True)\n",
    "\n",
    "for h in edgesets:\n",
    "    for edges in h:\n",
    "        g.add_edge(edges)\n",
    "\n",
    "print(\"tangled graph\")\n",
    "g.show()\n",
    "\n",
    "incmat= g.incidence_matrix()\n",
    "\n",
    "\n",
    "part1={}\n",
    "\n",
    "\n",
    "\n",
    "for i in range(2,n):\n",
    "    part1[i]=list(it.combinations(list(range(n)),i))\n",
    "   # part1[i]=it.combinations(list(range(n)),i)\n",
    "\n",
    "part2={} #complementary partite set to the ones in part1\n",
    "\n",
    "print(incmat)\n",
    "\n",
    "possibleparts=[]\n",
    "\n",
    "\n",
    "\n",
    "\n",
    "#graph anomalies as function of difference of partite sets?"
   ]
  }
 ],
 "metadata": {
  "kernelspec": {
   "display_name": "SageMath 8.1",
   "language": "",
   "name": "sagemath"
  },
  "language_info": {
   "codemirror_mode": {
    "name": "ipython",
    "version": 2
   },
   "file_extension": ".py",
   "mimetype": "text/x-python",
   "name": "python",
   "nbconvert_exporter": "python",
   "pygments_lexer": "ipython2",
   "version": "2.7.14"
  }
 },
 "nbformat": 4,
 "nbformat_minor": 2
}
